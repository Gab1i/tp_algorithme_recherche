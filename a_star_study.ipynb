{
 "cells": [
  {
   "cell_type": "code",
   "execution_count": 19,
   "metadata": {},
   "outputs": [
    {
     "ename": "ImportError",
     "evalue": "cannot import name 'breadthFirstSearch' from 'search.Search' (/Users/gabrielnativel-fontaine/Documents/Cours/Algorithmes de recherche/tp-ameliore/search/Search.py)",
     "output_type": "error",
     "traceback": [
      "\u001b[0;31m---------------------------------------------------------------------------\u001b[0m",
      "\u001b[0;31mImportError\u001b[0m                               Traceback (most recent call last)",
      "\u001b[0;32m<ipython-input-19-ea0c722b272d>\u001b[0m in \u001b[0;36m<module>\u001b[0;34m\u001b[0m\n\u001b[1;32m      1\u001b[0m \u001b[0;32mfrom\u001b[0m \u001b[0msearch\u001b[0m\u001b[0;34m.\u001b[0m\u001b[0mProblem\u001b[0m \u001b[0;32mimport\u001b[0m \u001b[0mProblem\u001b[0m\u001b[0;34m\u001b[0m\u001b[0;34m\u001b[0m\u001b[0m\n\u001b[0;32m----> 2\u001b[0;31m \u001b[0;32mfrom\u001b[0m \u001b[0msearch\u001b[0m\u001b[0;34m.\u001b[0m\u001b[0mSearch\u001b[0m \u001b[0;32mimport\u001b[0m \u001b[0maStarSearch\u001b[0m\u001b[0;34m,\u001b[0m \u001b[0mbreadthFirstSearch\u001b[0m\u001b[0;34m,\u001b[0m \u001b[0mipa_star\u001b[0m\u001b[0;34m\u001b[0m\u001b[0;34m\u001b[0m\u001b[0m\n\u001b[0m",
      "\u001b[0;31mImportError\u001b[0m: cannot import name 'breadthFirstSearch' from 'search.Search' (/Users/gabrielnativel-fontaine/Documents/Cours/Algorithmes de recherche/tp-ameliore/search/Search.py)"
     ]
    }
   ],
   "source": [
    "from search.Problem import Problem\n",
    "from search.Search import aStarSearch, breadthFirstSearch, ipa_star"
   ]
  },
  {
   "cell_type": "markdown",
   "metadata": {},
   "source": [
    "# L'algorithme A*\n",
    "A* est un algorithme de recherche permettant de trouver le chemin dans un graphe entre un noeud de départ et un noeud d'arrivé.\n",
    "Cette algorithme repose sur deux éléments importants:\n",
    " - Un problème formalisé\n",
    " - Une heuristique admissible et consistante\n",
    " \n",
    "L'algorithme consiste à explorer les noeuds du graphes en passant par les meilleurs noeuds, que l'on classe selon leur valeur $f(n) = g(n) + h(n)$ où $g(n)$ est la profondeur du noeud $n$ et $h(n)$ l'heuristique au noeud $n$."
   ]
  },
  {
   "cell_type": "markdown",
   "metadata": {},
   "source": [
    "## Formalisation du problème\n",
    "Il est nécessaire de réfléchir à la formalisation du problème que l'on souhaite résoudre.\n",
    "\n",
    "### Le taquin\n",
    "lorem ipsum...\n",
    "\n",
    "### Un problème fantastique\n",
    "...\n",
    "\n"
   ]
  },
  {
   "cell_type": "code",
   "execution_count": null,
   "metadata": {},
   "outputs": [],
   "source": [
    "class UnProblem(Problem):\n",
    "    def __init__(self, start, end):\n",
    "        super().__init__(start, end)\n",
    "        \n",
    "    def _buildNext(self, prev):\n",
    "        pass\n",
    "    "
   ]
  },
  {
   "cell_type": "markdown",
   "metadata": {},
   "source": [
    "## Heuristique\n",
    "Une heuristique est une fonction qui, pour un noeud donné, donne le coût permettant d'atteindre le noeud but.\n",
    "\n",
    "On dit d'une heuristique qu'elle est **admissible** lorsqu'elle est inférieure ou égale au coût réel pour se rendre au but.\n",
    "On dit également d'une heuristique qu'elle est **consistante** (ou monotone) lorsque, pour chaque nœud n et chaque successeur n’ de n produit par n’importe quelle action, le coût estimé pour atteindre le but à partir de n n’est pas supérieur au coût de l’étape pour aller à n’ plus le coût estimé pour atteindre le but à partir de n’.\n",
    "\n",
    "Tout l'art des algorithmes de recherche réside dans le développement d'heuristiques admissibles et consistantes afin de préserver l'optimalité de l'algorithme.\n",
    "\n",
    "L'utilisation de certaines heuristiques dites triviales équivaut à l'utilisation d'algorithmes de recherches dérivés:\n",
    "- Si $f(n) = g(n)$: algorithme du coût uniforme, qui équivaut à une exploration en largeur d'abord lorsque les coûts pour passer d'un noeud parent à un noeud fils sont égaux (Breadth First Search)\n",
    "- Si $h(n) = 0 \\Rightarrow f(n) = g(n)$: algorithme glouton (Best first search)\n",
    "\n",
    "Créons une heuristique pour notre problème :"
   ]
  },
  {
   "cell_type": "code",
   "execution_count": 3,
   "metadata": {},
   "outputs": [],
   "source": [
    "def heuristic(state):\n",
    "    pass"
   ]
  },
  {
   "cell_type": "markdown",
   "metadata": {},
   "source": [
    "## Résolution\n",
    "Voyons le résultat de notre algorithme"
   ]
  },
  {
   "cell_type": "code",
   "execution_count": null,
   "metadata": {},
   "outputs": [],
   "source": [
    "problem = UnProblem('debut', 'fin')\n",
    "result = aStarSearch(problemTaquin, heuristic)\n",
    "print(result)"
   ]
  },
  {
   "cell_type": "markdown",
   "metadata": {
    "pycharm": {
     "name": "#%%\n"
    }
   },
   "source": [
    "## Une autre heuristique ?"
   ]
  },
  {
   "cell_type": "code",
   "execution_count": 16,
   "metadata": {},
   "outputs": [],
   "source": [
    "def heuristicAutre(state):\n",
    "    pass"
   ]
  },
  {
   "cell_type": "code",
   "execution_count": null,
   "metadata": {},
   "outputs": [],
   "source": [
    "result2 = aStarSearch(problemTaquin, heuristicAutre)\n",
    "print(result2)"
   ]
  },
  {
   "cell_type": "code",
   "execution_count": null,
   "metadata": {},
   "outputs": [],
   "source": [
    "# Afficher le comparatif entre les deux heuristiques"
   ]
  },
  {
   "cell_type": "markdown",
   "metadata": {
    "pycharm": {
     "name": "#%% md\n"
    }
   },
   "source": [
    "## Comparaison avec d'autres algorithmes\n",
    "### Recherche en largeur d'abord"
   ]
  },
  {
   "cell_type": "code",
   "execution_count": null,
   "metadata": {
    "pycharm": {
     "name": "#%%\n"
    }
   },
   "outputs": [],
   "source": [
    "result_bfs = breadthFirstSeach(problemTaquin, heuristicAutre)\n",
    "print(result_bfs)"
   ]
  },
  {
   "cell_type": "markdown",
   "metadata": {},
   "source": [
    "### Recherche avec coût uniforme"
   ]
  },
  {
   "cell_type": "code",
   "execution_count": null,
   "metadata": {},
   "outputs": [],
   "source": [
    "result_uc = uniformCostSeach(problemTaquin, heuristicAutre)\n",
    "print(result_uc)"
   ]
  },
  {
   "cell_type": "markdown",
   "metadata": {},
   "source": [
    "## Aller plus loin avec A*\n",
    "### Step A*"
   ]
  },
  {
   "cell_type": "code",
   "execution_count": null,
   "metadata": {},
   "outputs": [],
   "source": [
    "steps = []\n",
    "final_path = []\n",
    "\n",
    "start = ''\n",
    "for step in steps:\n",
    "    tmp_problem = UnProblem(start, step)\n",
    "    tmp_result = aStarSearch(problemTaquin, heuristicAutre)\n",
    "    \n",
    "    final_path.extends(tmp_result.Path)\n",
    "    start = step"
   ]
  },
  {
   "cell_type": "code",
   "execution_count": null,
   "metadata": {},
   "outputs": [],
   "source": []
  },
  {
   "cell_type": "markdown",
   "metadata": {},
   "source": [
    "### IPA*"
   ]
  },
  {
   "cell_type": "code",
   "execution_count": null,
   "metadata": {},
   "outputs": [],
   "source": [
    "result_ipa = ipaStarSeach(problemTaquin, heuristicAutre)\n",
    "print(result_ipa)"
   ]
  }
 ],
 "metadata": {
  "kernelspec": {
   "display_name": "Python 3",
   "language": "python",
   "name": "python3"
  },
  "language_info": {
   "codemirror_mode": {
    "name": "ipython",
    "version": 3
   },
   "file_extension": ".py",
   "mimetype": "text/x-python",
   "name": "python",
   "nbconvert_exporter": "python",
   "pygments_lexer": "ipython3",
   "version": "3.8.5"
  }
 },
 "nbformat": 4,
 "nbformat_minor": 4
}
