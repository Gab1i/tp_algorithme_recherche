{
 "cells": [
  {
   "cell_type": "code",
   "execution_count": 1,
   "metadata": {},
   "outputs": [],
   "source": [
    "from search.Problem import Problem\n",
    "from search.Search import aStarSearch, breadthFirstSearch, ipa_star"
   ]
  },
  {
   "cell_type": "markdown",
   "metadata": {},
   "source": [
    "# L'algorithme A*\n",
    "A* est un algorithme de recherche permettant de trouver le chemin dans un graphe entre un noeud de départ et un noeud d'arrivé.\n",
    "Cette algorithme repose sur deux éléments importants:\n",
    " - Un problème formalisé\n",
    " - Une heuristique admissible et consistante\n",
    " \n",
    "L'algorithme consiste à explorer les noeuds du graphes en passant par les meilleurs noeuds, que l'on classe selon leur valeur $f(n) = g(n) + h(n)$ où $g(n)$ est la profondeur du noeud $n$ et $h(n)$ l'heuristique au noeud $n$."
   ]
  },
  {
   "cell_type": "markdown",
   "metadata": {},
   "source": [
    "## Formalisation du problème\n",
    "Il est nécessaire de réfléchir à la formalisation du problème que l'on souhaite résoudre.\n",
    "\n",
    "### La tour de Hanoï\n",
    "Prenons le jeu de la tour de Hanoï et essayons de le modéliser afin de la résoudre à l'aide de l'algorithme A*.\n",
    "Le principe est simple, on dispose de trois emplacements qui peuvent accueillir des disques de tailles différentes. Il faut déplacer la tour de gauche sur l'emplacement de droite avec le moins de coups possibles. Chaque disque ne peut être posé que sur un disque de diamètre supérieur au sien."
   ]
  },
  {
   "cell_type": "code",
   "execution_count": 2,
   "metadata": {},
   "outputs": [],
   "source": [
    "import copy\n",
    "\n",
    "class Hanoi(Problem):\n",
    "    def __init__(self):\n",
    "        start = [[i for i in reversed(range(5))], [], []]\n",
    "        end = [[], [], [i for i in reversed(range(5))]]\n",
    "        super().__init__(start, end)\n",
    "        \n",
    "    def _buildNext(self, prev):\n",
    "        children = []\n",
    "        \n",
    "        for i in range(3):\n",
    "            board = copy.deepcopy(prev)\n",
    "\n",
    "            if len(board[i]) > 0:\n",
    "                piece = board[i].pop()\n",
    "                \n",
    "                possible_moves = [0, 1, 2]\n",
    "                possible_moves.remove(i)\n",
    "                \n",
    "                for j in possible_moves:\n",
    "                    if len(board[j]) == 0 or board[j][-1] > piece:\n",
    "                        next_board = copy.deepcopy(board)\n",
    "                        next_board[j].append(piece)\n",
    "                        children.append(next_board)\n",
    "                \n",
    "        return children    "
   ]
  },
  {
   "cell_type": "markdown",
   "metadata": {},
   "source": [
    "## Heuristique\n",
    "Une heuristique est une fonction qui, pour un noeud donné, donne le coût permettant d'atteindre le noeud but.\n",
    "\n",
    "On dit d'une heuristique qu'elle est **admissible** lorsqu'elle est inférieure ou égale au coût réel pour se rendre au but.\n",
    "On dit également d'une heuristique qu'elle est **consistante** (ou monotone) lorsque, pour chaque nœud $n$ et chaque successeur $n’$ de $n$ produit par n’importe quelle action, le coût estimé pour atteindre le but à partir de $n$ n’est pas supérieur au coût de l’étape pour aller à $n’$ plus le coût estimé pour atteindre le but à partir de $n’$.\n",
    "\n",
    "Tout l'art des algorithmes de recherche réside dans le développement d'heuristiques admissibles et consistantes afin de préserver l'optimalité de l'algorithme.\n",
    "\n",
    "L'utilisation de certaines heuristiques dites triviales équivaut à l'utilisation d'algorithmes de recherches dérivés:\n",
    "- Si $f(n) = g(n)$: algorithme du coût uniforme, qui équivaut à une exploration en largeur d'abord lorsque les coûts pour passer d'un noeud parent à un noeud fils sont égaux (Breadth First Search)\n",
    "- Si $h(n) = 0 \\Rightarrow f(n) = g(n)$: algorithme glouton (Best first search)\n",
    "\n",
    "Créons une heuristique pour notre problème. Commençons simplement par poser $h(n) = 0$, de cette façon, l'algorithme agira comme un algorithme glouton et va tester toutes les possibilités en parcourant le graphe des coups en largeur. On trouvera ainsi assurément la solution la plus courte (en nombre de coups) mais au détriment du temps de recherche."
   ]
  },
  {
   "cell_type": "code",
   "execution_count": 3,
   "metadata": {},
   "outputs": [],
   "source": [
    "def heuristic(state, goal):\n",
    "    return 0"
   ]
  },
  {
   "cell_type": "markdown",
   "metadata": {},
   "source": [
    "## Résolution\n",
    "Voyons le résultat de notre algorithme"
   ]
  },
  {
   "cell_type": "code",
   "execution_count": 4,
   "metadata": {},
   "outputs": [
    {
     "name": "stdout",
     "output_type": "stream",
     "text": [
      "Solution found in 0.051723000000000074 seconds\n",
      "Length of the solution: 31\n",
      "Nodes opened: 233\n"
     ]
    }
   ],
   "source": [
    "problem = Hanoi()\n",
    "result = aStarSearch(problem, heuristic)\n",
    "\n",
    "print(result)"
   ]
  },
  {
   "cell_type": "markdown",
   "metadata": {
    "pycharm": {
     "name": "#%%\n"
    }
   },
   "source": [
    "On voit donc que l'algorithme a trouvé le chemin le plus court (le jeu de la tour de Hanoï est bien connu, il est admis que la tour de Hanoïe à 5 disques ne peut se résoudre en moins de 31 mouvements).\n",
    "\n",
    "En cherchant la solution, l'algorithme a parcouru 233 noeuds du graphes des coups jouables.\n",
    "\n",
    "## Une autre heuristique ?\n",
    "Cherchons maintenant une heuristique un peu plus intelligente pour estimer la distance entre un noeud et le noeud que l'on cherche à atteindre.\n",
    "\n",
    "On peut admettre que le nombre de coup qu'il reste à jouer est inférieur au nombre de pièces sur la position 3\n",
    "\n",
    "Posons donc $h(n) = 5 - \\textit{nb_pieces_en_3}$\n",
    "\n",
    "Ceci est une heuristique admissible, en effet, lorsqu'il ne reste plus qu'une seule pièce à déplacer l'heuristique proposée est égale au coût réel de déplacement. Lorsqu'il reste plus d'une pièce à déplacer, l'heuristique proposée est toujours inférieure au nombre de déplacement réel du fait de la mécanisme de déplacement ; un disque étant toujours posé sur un disque de diamètre plus grand, pour déplacer $n$ pièces, il faudra toujours plus de $n$ mouvements."
   ]
  },
  {
   "cell_type": "code",
   "execution_count": 5,
   "metadata": {},
   "outputs": [],
   "source": [
    "def wrong_place_heuristic(state, goal):\n",
    "    return 5 - len(state.Value[2])"
   ]
  },
  {
   "cell_type": "code",
   "execution_count": 6,
   "metadata": {},
   "outputs": [
    {
     "name": "stdout",
     "output_type": "stream",
     "text": [
      "Solution found in 0.03436000000000006 seconds\n",
      "Length of the solution: 31\n",
      "Nodes opened: 178\n"
     ]
    }
   ],
   "source": [
    "result2 = aStarSearch(problem, wrong_place_heuristic)\n",
    "print(result2)"
   ]
  },
  {
   "cell_type": "markdown",
   "metadata": {},
   "source": [
    "On s'aperçoit qu'avec une heuristique plus \"intelligente\", l'algorithme présente de bien meilleur performance, il a parcouru 76% de noeuds en moins pour trouver la solution optimale en moins de temps."
   ]
  },
  {
   "cell_type": "markdown",
   "metadata": {},
   "source": [
    "## Encore un problème\n",
    "Le jeu de la tour de Hanoï est un problème extrêmement simple et peut même être résolu rapidement par des algorithmes récursifs, mais il permet de tester l'efficacité des algorithmes de recherche.\n",
    "\n",
    "Testons maintenant notre algorithme sur un problème régulièrement utilisé dans le domaine des jeux vidéos : la recherche de chemin dans un labyrinthe."
   ]
  },
  {
   "cell_type": "code",
   "execution_count": 42,
   "metadata": {},
   "outputs": [],
   "source": [
    "class Maze(Problem):\n",
    "    def __init__(self, maze):\n",
    "        start = (4, 0)\n",
    "        end = (1, 9)\n",
    "        self.maze = maze\n",
    "        super().__init__(start, end)\n",
    "        \n",
    "    def _buildNext(self, prev):\n",
    "        children = []\n",
    "        x, y = prev\n",
    "        if x > 0 and self.maze[x-1][y] != '#':\n",
    "            children.append((x-1, y))\n",
    "        if x < len(self.maze)-1 and self.maze[x+1][y] != '#':\n",
    "            children.append((x+1, y))\n",
    "        if y > 0 and self.maze[x][y-1] != '#':\n",
    "            children.append((x, y-1))\n",
    "        if y < len(self.maze[0])-1 and self.maze[x][y+1] != '#':\n",
    "            children.append((x, y+1))\n",
    "        return children"
   ]
  },
  {
   "cell_type": "markdown",
   "metadata": {},
   "source": [
    "Dans ce cas, l'heuristique la plus simple reste la distance entre les deux points. On peut utiliser la distance euclidienne, ou la distance de manhattan qui donnerait la distance exacte s'il n'y avait pas les obstacles."
   ]
  },
  {
   "cell_type": "code",
   "execution_count": 43,
   "metadata": {},
   "outputs": [],
   "source": [
    "def euclidian_heuristic(state, goal):\n",
    "    x1, y1 = state.Value\n",
    "    x2, y2 = goal.Value\n",
    "    return ((x1 - x2) ** 2 + (y1 - y2) ** 2)**0.5"
   ]
  },
  {
   "cell_type": "code",
   "execution_count": 44,
   "metadata": {},
   "outputs": [],
   "source": [
    "def manhattan_heuristic(state, goal):\n",
    "    x1, y1 = state.Value\n",
    "    x2, y2 = goal.Value\n",
    "    return abs(x1 - x2) + abs(y1 - y2)"
   ]
  },
  {
   "cell_type": "code",
   "execution_count": 45,
   "metadata": {},
   "outputs": [],
   "source": [
    "my_maze = [\n",
    "    '  ####    ',\n",
    "    '     #   A',\n",
    "    '  #  # # #',\n",
    "    ' ###   # #',\n",
    "    'D  ##  ###',\n",
    "    '    ##    ',\n",
    "]\n",
    "\n",
    "maze_problem = Maze(my_maze)"
   ]
  },
  {
   "cell_type": "code",
   "execution_count": 48,
   "metadata": {},
   "outputs": [
    {
     "name": "stdout",
     "output_type": "stream",
     "text": [
      "Solution found in 0.001072000000000184 seconds\n",
      "Length of the solution: 16\n",
      "Nodes opened: 28\n"
     ]
    }
   ],
   "source": [
    "result3 = aStarSearch(maze_problem, euclidian_heuristic)\n",
    "print(result3)"
   ]
  },
  {
   "cell_type": "code",
   "execution_count": 49,
   "metadata": {},
   "outputs": [
    {
     "name": "stdout",
     "output_type": "stream",
     "text": [
      "Solution found in 0.0009369999999999656 seconds\n",
      "Length of the solution: 16\n",
      "Nodes opened: 27\n"
     ]
    }
   ],
   "source": [
    "result4 = aStarSearch(maze_problem, manhattan_heuristic)\n",
    "print(result4)"
   ]
  },
  {
   "cell_type": "code",
   "execution_count": null,
   "metadata": {},
   "outputs": [],
   "source": []
  }
 ],
 "metadata": {
  "kernelspec": {
   "display_name": "Python 3",
   "language": "python",
   "name": "python3"
  },
  "language_info": {
   "codemirror_mode": {
    "name": "ipython",
    "version": 3
   },
   "file_extension": ".py",
   "mimetype": "text/x-python",
   "name": "python",
   "nbconvert_exporter": "python",
   "pygments_lexer": "ipython3",
   "version": "3.8.6"
  }
 },
 "nbformat": 4,
 "nbformat_minor": 4
}
